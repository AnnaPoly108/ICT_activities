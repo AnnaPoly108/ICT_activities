{
  "nbformat": 4,
  "nbformat_minor": 0,
  "metadata": {
    "colab": {
      "provenance": [],
      "authorship_tag": "ABX9TyNdBuLHKkZIHgr03brAR4WA",
      "include_colab_link": true
    },
    "kernelspec": {
      "name": "python3",
      "display_name": "Python 3"
    },
    "language_info": {
      "name": "python"
    }
  },
  "cells": [
    {
      "cell_type": "markdown",
      "metadata": {
        "id": "view-in-github",
        "colab_type": "text"
      },
      "source": [
        "<a href=\"https://colab.research.google.com/github/AnnaPoly108/ICT_activities/blob/main/Anna_Poly_python_addnl.ipynb\" target=\"_parent\"><img src=\"https://colab.research.google.com/assets/colab-badge.svg\" alt=\"Open In Colab\"/></a>"
      ]
    },
    {
      "cell_type": "code",
      "execution_count": 1,
      "metadata": {
        "id": "Kh3jAT88Felt",
        "colab": {
          "base_uri": "https://localhost:8080/"
        },
        "outputId": "9a64324f-8950-44bc-fbb2-36c72216913a"
      },
      "outputs": [
        {
          "output_type": "stream",
          "name": "stdout",
          "text": [
            "Enter item name (or type 'done' to finish): sugar\n",
            "Enter price of sugar: 200\n",
            "Enter item name (or type 'done' to finish): rice\n",
            "Enter price of rice: 450\n",
            "Enter item name (or type 'done' to finish): coconut oil\n",
            "Enter price of coconut oil: 200\n",
            "Enter item name (or type 'done' to finish): done\n",
            "\n",
            "You got a 10% discount of ₹85.00!\n",
            "Your total bill is: ₹765.00\n"
          ]
        }
      ],
      "source": [
        "# Grocery Store Billing\n",
        "\n",
        "total = 0\n",
        "while True:\n",
        "    item = input(\"Enter item name (or type 'done' to finish): \")\n",
        "    if item.lower() == \"done\":\n",
        "        break\n",
        "    price = float(input(f\"Enter price of {item}: \"))\n",
        "    total += price\n",
        "\n",
        "if total > 500:\n",
        "    discount = total * 0.10\n",
        "    total = total - discount\n",
        "    print(f\"\\nYou got a 10% discount of ₹{discount:.2f}!\")\n",
        "print(f\"Your total bill is: ₹{total:.2f}\")\n"
      ]
    },
    {
      "cell_type": "code",
      "source": [
        "#2 Exam Result Calculator\n",
        "marks = []\n",
        "for i in range(1, 6):\n",
        "    score = float(input(f\"Enter marks for subject {i}: \"))\n",
        "    marks.append(score)\n",
        "total = sum(marks)\n",
        "percentage = total / 5\n",
        "\n",
        "if percentage >= 90:\n",
        "    grade = \"A\"\n",
        "elif percentage >= 75:\n",
        "    grade = \"B\"\n",
        "elif percentage >= 50:\n",
        "    grade = \"C\"\n",
        "else:\n",
        "    grade = \"Fail\"\n",
        "\n",
        "\n",
        "print(\"\\n Result\")\n",
        "print(\"Marks:\", marks)\n",
        "print(f\"Total: {total}\")\n",
        "print(f\"Percentage: {percentage:.2f}%\")\n",
        "print(f\"Grade: {grade}\")\n",
        "\n"
      ],
      "metadata": {
        "colab": {
          "base_uri": "https://localhost:8080/"
        },
        "id": "RSrUoP3s5ciE",
        "outputId": "54289539-682b-4e59-86c9-e5f980383715"
      },
      "execution_count": 2,
      "outputs": [
        {
          "output_type": "stream",
          "name": "stdout",
          "text": [
            "Enter marks for subject 1: 95\n",
            "Enter marks for subject 2: 88\n",
            "Enter marks for subject 3: 85\n",
            "Enter marks for subject 4: 90\n",
            "Enter marks for subject 5: 92\n",
            "\n",
            " Result\n",
            "Marks: [95.0, 88.0, 85.0, 90.0, 92.0]\n",
            "Total: 450.0\n",
            "Percentage: 90.00%\n",
            "Grade: A\n"
          ]
        }
      ]
    },
    {
      "cell_type": "code",
      "source": [
        "# ATM Simulation\n",
        "\n",
        "balance = 1000\n",
        "\n",
        "while True:\n",
        "    print(\"\\nATM Menu\")\n",
        "    print(\"1. Deposit\")\n",
        "    print(\"2. Withdraw\")\n",
        "    print(\"3. Check Balance\")\n",
        "    print(\"4. Exit\")\n",
        "\n",
        "    choice = input(\"Choose an option (1-4): \")\n",
        "\n",
        "    if choice == \"1\":\n",
        "        amount = float(input(\"Enter amount to deposit: ₹\"))\n",
        "        balance += amount\n",
        "        print(f\"₹{amount} deposited successfully!\")\n",
        "\n",
        "    elif choice == \"2\":\n",
        "        amount = float(input(\"Enter amount to withdraw: ₹\"))\n",
        "        if amount > balance:\n",
        "            print(\"Insufficient funds! Withdrawal denied.\")\n",
        "        else:\n",
        "            balance -= amount\n",
        "            print(f\"₹{amount} withdrawn successfully!\")\n",
        "\n",
        "    elif choice == \"3\":\n",
        "        print(f\"Your current balance is: ₹{balance}\")\n",
        "\n",
        "    elif choice == \"4\":\n",
        "        print(\"Thank you for using the ATM. Goodbye!\")\n",
        "        break\n",
        "\n",
        "    else:\n",
        "        print(\"Invalid choice! Please select again.\")\n"
      ],
      "metadata": {
        "colab": {
          "base_uri": "https://localhost:8080/"
        },
        "id": "iIWI55i47AW5",
        "outputId": "07ee4972-b6cd-4db8-9ec1-397529bdc116"
      },
      "execution_count": 4,
      "outputs": [
        {
          "output_type": "stream",
          "name": "stdout",
          "text": [
            "\n",
            "ATM Menu\n",
            "1. Deposit\n",
            "2. Withdraw\n",
            "3. Check Balance\n",
            "4. Exit\n",
            "Choose an option (1-4): 1\n",
            "Enter amount to deposit: ₹2000\n",
            "₹2000.0 deposited successfully!\n",
            "\n",
            "ATM Menu\n",
            "1. Deposit\n",
            "2. Withdraw\n",
            "3. Check Balance\n",
            "4. Exit\n",
            "Choose an option (1-4): 3\n",
            "Your current balance is: ₹3000.0\n",
            "\n",
            "ATM Menu\n",
            "1. Deposit\n",
            "2. Withdraw\n",
            "3. Check Balance\n",
            "4. Exit\n",
            "Choose an option (1-4): 4\n",
            "Thank you for using the ATM. Goodbye!\n"
          ]
        }
      ]
    },
    {
      "cell_type": "code",
      "source": [
        " #Cricket Score Tracker\n",
        "players = {\"Jaison\": 78,\"Boby\": 60,\"Charlie\": 30,\"David\": 75,\"Evan\": 55}\n",
        "\n",
        "top_player = max(players, key=players.get)\n",
        "print(f\"Top Scorer: {top_player} with {players[top_player]} points\")\n",
        "\n",
        "print(\"\\nPlayer Scores \")\n",
        "for name, score in players.items():\n",
        "    print(f\"{name}: {score}\")\n",
        "\n",
        "player_to_update = \"Charlie\"\n",
        "new_score = 80\n",
        "players[player_to_update] = new_score\n",
        "print(f\"Updated {player_to_update}'s score to {new_score}\")\n",
        "\n",
        "\n",
        "\n",
        ""
      ],
      "metadata": {
        "colab": {
          "base_uri": "https://localhost:8080/"
        },
        "id": "GuJ5sALK8OHJ",
        "outputId": "dff2054a-c90d-43f6-c1f2-248b88afc433"
      },
      "execution_count": 10,
      "outputs": [
        {
          "output_type": "stream",
          "name": "stdout",
          "text": [
            "Top Scorer: Jaison with 78 points\n",
            "\n",
            "Player Scores \n",
            "Jaison: 78\n",
            "Boby: 60\n",
            "Charlie: 30\n",
            "David: 75\n",
            "Evan: 55\n",
            "Updated Charlie's score to 80\n"
          ]
        }
      ]
    },
    {
      "cell_type": "code",
      "source": [
        "#Restaurant Order System\n",
        "\n",
        "menu = {\"Burger\": 120, \"Pizza\": 250, \"Pasta\": 150, \"sandwich\": 100}\n",
        "total = 0\n",
        "order_list = []\n",
        "\n",
        "while True:\n",
        "    order = input(\"Enter item: \")\n",
        "\n",
        "    if order.lower() == \"done\":\n",
        "        break\n",
        "    elif order in menu:\n",
        "        order_list.append(order)\n",
        "        total += menu[order]\n",
        "    else:\n",
        "        print(\"Item not in menu!\")\n",
        "\n",
        "\n",
        "if \"Pizza\" in order_list:\n",
        "    total -= 50\n",
        "\n",
        "print(\"\\nFinal Bill: ₹\", total)\n"
      ],
      "metadata": {
        "colab": {
          "base_uri": "https://localhost:8080/"
        },
        "id": "P2EhlyQMAfIc",
        "outputId": "5f1f8eea-7c4d-4c3e-94ab-ca256675abc2"
      },
      "execution_count": 11,
      "outputs": [
        {
          "output_type": "stream",
          "name": "stdout",
          "text": [
            "Enter item (or 'done' to finish): Burger\n",
            "Enter item (or 'done' to finish): Pizza\n",
            "Enter item (or 'done' to finish): done\n",
            "\n",
            "Final Bill: ₹ 320\n"
          ]
        }
      ]
    },
    {
      "cell_type": "code",
      "source": [
        "#Temperature Conversion Tool\n",
        "celsius = float(input(\"Enter temperature in Celsius: \"))\n",
        "fahrenheit = (celsius * 9/5) + 32\n",
        "print(f\"{celsius}°C = {fahrenheit}°F\")"
      ],
      "metadata": {
        "colab": {
          "base_uri": "https://localhost:8080/"
        },
        "id": "S3UoSriBCXMl",
        "outputId": "38032046-3a48-4f07-e2d8-21f509593430"
      },
      "execution_count": 12,
      "outputs": [
        {
          "output_type": "stream",
          "name": "stdout",
          "text": [
            "Enter temperature in Celsius: 30\n",
            "30.0°C = 86.0°F\n"
          ]
        }
      ]
    },
    {
      "cell_type": "code",
      "source": [
        "# Online Shopping Cart\n",
        "\n",
        "cart = []\n",
        "\n",
        "while True:\n",
        "    print(\"\\n--- Shopping Cart Menu ---\")\n",
        "    print(\"1. Add item\")\n",
        "    print(\"2. Remove item\")\n",
        "    print(\"3. View cart\")\n",
        "    print(\"4. Checkout\")\n",
        "\n",
        "    choice = input(\"Choose an option (1-4): \")\n",
        "\n",
        "    if choice == \"1\":\n",
        "        item = input(\"Enter item to add: \")\n",
        "        cart.append(item)\n",
        "        print(f\"{item} added to cart.\")\n",
        "\n",
        "    elif choice == \"2\":\n",
        "        item = input(\"Enter item to remove: \")\n",
        "        if item in cart:\n",
        "            cart.remove(item)\n",
        "            print(f\"{item} removed from cart.\")\n",
        "        else:\n",
        "            print(\"Item not found in cart.\")\n",
        "\n",
        "    elif choice == \"3\":\n",
        "        if cart:\n",
        "            print(\"Your cart:\", cart)\n",
        "        else:\n",
        "            print(\"Cart is empty.\")\n",
        "\n",
        "    elif choice == \"4\":\n",
        "        print(\"\\nChecking out... Final Cart:\", cart)\n",
        "        break\n",
        "\n",
        "    else:\n",
        "        print(\"Invalid choice! Try again.\")\n"
      ],
      "metadata": {
        "colab": {
          "base_uri": "https://localhost:8080/"
        },
        "id": "WzD5EsGfHUrB",
        "outputId": "ae049c9d-ee53-443a-c6ca-cdd11cc20e82"
      },
      "execution_count": 14,
      "outputs": [
        {
          "output_type": "stream",
          "name": "stdout",
          "text": [
            "\n",
            "--- Shopping Cart Menu ---\n",
            "1. Add item\n",
            "2. Remove item\n",
            "3. View cart\n",
            "4. Checkout\n",
            "Choose an option (1-4): 1\n",
            "Enter item to add: bag\n",
            "bag added to cart.\n",
            "\n",
            "--- Shopping Cart Menu ---\n",
            "1. Add item\n",
            "2. Remove item\n",
            "3. View cart\n",
            "4. Checkout\n",
            "Choose an option (1-4): 1\n",
            "Enter item to add: belt\n",
            "belt added to cart.\n",
            "\n",
            "--- Shopping Cart Menu ---\n",
            "1. Add item\n",
            "2. Remove item\n",
            "3. View cart\n",
            "4. Checkout\n",
            "Choose an option (1-4): 2\n",
            "Enter item to remove: belt\n",
            "belt removed from cart.\n",
            "\n",
            "--- Shopping Cart Menu ---\n",
            "1. Add item\n",
            "2. Remove item\n",
            "3. View cart\n",
            "4. Checkout\n",
            "Choose an option (1-4): 3\n",
            "Your cart: ['bag']\n",
            "\n",
            "--- Shopping Cart Menu ---\n",
            "1. Add item\n",
            "2. Remove item\n",
            "3. View cart\n",
            "4. Checkout\n",
            "Choose an option (1-4): 4\n",
            "\n",
            "Checking out... Final Cart: ['bag']\n"
          ]
        }
      ]
    },
    {
      "cell_type": "code",
      "source": [
        "# Student Attendance Tracker\n",
        "students = [\"Alice\", \"Boby\", \"Charlie\", \"David\", \"Evan\"]\n",
        "\n",
        "attendance = {}\n",
        "\n",
        "\n",
        "for student in students:\n",
        "    status = input(f\"Mark attendance for {student} : \").upper()\n",
        "    attendance[student] = status\n",
        "print(\"Total Students:\", len(students))\n",
        "\n",
        "\n",
        "present = list(attendance.values()).count(\"P\")\n",
        "print(\"Present:\", present)\n",
        "absent = list(attendance.values()).count(\"A\")\n",
        "print(\"Absent:\", absent)\n",
        "\n",
        "\n",
        "\n",
        "\n"
      ],
      "metadata": {
        "colab": {
          "base_uri": "https://localhost:8080/"
        },
        "id": "ftXXZ0xVI_Sa",
        "outputId": "fa894cea-ed8a-44c5-c059-bbc0f9e97abc"
      },
      "execution_count": 18,
      "outputs": [
        {
          "output_type": "stream",
          "name": "stdout",
          "text": [
            "Mark attendance for Alice : P\n",
            "Mark attendance for Boby : A\n",
            "Mark attendance for Charlie : P\n",
            "Mark attendance for David : A\n",
            "Mark attendance for Evan : P\n",
            "Total Students: 5\n",
            "Present: 3\n",
            "Absent: 2\n"
          ]
        }
      ]
    },
    {
      "cell_type": "code",
      "source": [
        "# Cinema Ticket Booking System\n",
        "\n",
        "seats = 50\n",
        "ticket_price = 120\n",
        "\n",
        "while True:\n",
        "    print(f\"\\nAvailable Seats: {seats}\")\n",
        "    tickets = int(input(\"How many tickets do you want?: \"))\n",
        "\n",
        "    if tickets == 0:\n",
        "        print(\"Thank you for visiting!\")\n",
        "        break\n",
        "\n",
        "    if tickets <= seats:\n",
        "        cost = tickets * ticket_price\n",
        "        seats -= tickets\n",
        "        print(f\"Booking confirmed! You bought {tickets} tickets for ₹{cost}.\")\n",
        "        print(f\"Remaining Seats: {seats}\")\n",
        "    else:\n",
        "        print(\"Not enough seats available!\")\n"
      ],
      "metadata": {
        "colab": {
          "base_uri": "https://localhost:8080/"
        },
        "id": "IxqgcFJjJ35k",
        "outputId": "238a6227-815f-49dc-bffa-404d6753e767"
      },
      "execution_count": 21,
      "outputs": [
        {
          "output_type": "stream",
          "name": "stdout",
          "text": [
            "\n",
            "Available Seats: 50\n",
            "How many tickets do you want?: 48\n",
            "Booking confirmed! You bought 48 tickets for ₹5760.\n",
            "Remaining Seats: 2\n",
            "\n",
            "Available Seats: 2\n",
            "How many tickets do you want?: 2\n",
            "Booking confirmed! You bought 2 tickets for ₹240.\n",
            "Remaining Seats: 0\n",
            "\n",
            "Available Seats: 0\n",
            "How many tickets do you want?: 20\n",
            "Not enough seats available!\n",
            "\n",
            "Available Seats: 0\n",
            "How many tickets do you want?: 0\n",
            "Thank you for visiting!\n"
          ]
        }
      ]
    },
    {
      "cell_type": "code",
      "source": [
        "# Bank Loan Eligibility Checker\n",
        "salary = int(input(\"Enter your monthly salary: ₹\"))\n",
        "credit_score = int(input(\"Enter your credit score: \"))\n",
        "age = int(input(\"Enter your age: \"))\n",
        "\n",
        "\n",
        "if salary >= 25000 and credit_score >= 650 and 21 <= age <= 60:\n",
        "    print(\"Congratulations! You are eligible for the loan.\")\n",
        "else:\n",
        "    print(\"Sorry, you are not eligible for the loan.\")\n"
      ],
      "metadata": {
        "colab": {
          "base_uri": "https://localhost:8080/"
        },
        "id": "YFS9uft-Lc4v",
        "outputId": "dd8d9e93-01ec-4c90-ab9d-ac8e2d5a920b"
      },
      "execution_count": 22,
      "outputs": [
        {
          "output_type": "stream",
          "name": "stdout",
          "text": [
            "Enter your monthly salary: ₹50000\n",
            "Enter your credit score: 800\n",
            "Enter your age: 30\n",
            "Congratulations! You are eligible for the loan.\n"
          ]
        }
      ]
    }
  ]
}