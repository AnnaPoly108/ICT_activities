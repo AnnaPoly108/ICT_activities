{
  "nbformat": 4,
  "nbformat_minor": 0,
  "metadata": {
    "colab": {
      "provenance": [],
      "authorship_tag": "ABX9TyNGJIGVFG/uiTOtv3IkAimq",
      "include_colab_link": true
    },
    "kernelspec": {
      "name": "python3",
      "display_name": "Python 3"
    },
    "language_info": {
      "name": "python"
    }
  },
  "cells": [
    {
      "cell_type": "markdown",
      "metadata": {
        "id": "view-in-github",
        "colab_type": "text"
      },
      "source": [
        "<a href=\"https://colab.research.google.com/github/AnnaPoly108/ICT_activities/blob/main/python_case_study_Anna_Poly.ipynb\" target=\"_parent\"><img src=\"https://colab.research.google.com/assets/colab-badge.svg\" alt=\"Open In Colab\"/></a>"
      ]
    },
    {
      "cell_type": "code",
      "execution_count": 4,
      "metadata": {
        "colab": {
          "base_uri": "https://localhost:8080/"
        },
        "id": "9EZ85yaXrkad",
        "outputId": "0c87da7d-e5a6-45ba-d011-dd3ff727ebba"
      },
      "outputs": [
        {
          "output_type": "stream",
          "name": "stdout",
          "text": [
            "Range: 7 (1, 8)\n"
          ]
        }
      ],
      "source": [
        "#maximum and minimum\n",
        "num=[4,8,1,6,2]\n",
        "def tt_range(num):\n",
        "  maximum=max(num)\n",
        "  minimum=min(num)\n",
        "  range_value=maximum-minimum\n",
        "  return f\"Range: {range_value} ({minimum}, {maximum})\"\n",
        "print(tt_range(num))\n",
        "\n"
      ]
    },
    {
      "cell_type": "code",
      "source": [
        "#mean value\n",
        "num=[7,3,5,9,6]\n",
        "def mean_value(num):\n",
        "  sumValue =sum(num)\n",
        "  length =len(num)\n",
        "  meanValue =sumValue/length\n",
        "  return f\"Mean Value is: {meanValue}\"\n",
        "print(mean_value(num))"
      ],
      "metadata": {
        "colab": {
          "base_uri": "https://localhost:8080/"
        },
        "id": "xileJPQh74pi",
        "outputId": "05dd1794-be4b-4297-bdd4-630f8c68b6a5"
      },
      "execution_count": 6,
      "outputs": [
        {
          "output_type": "stream",
          "name": "stdout",
          "text": [
            "Mean Value is: 6.0\n"
          ]
        }
      ]
    },
    {
      "cell_type": "code",
      "source": [
        "#median value of list of numbers\n",
        "lists=[7,9,2,6,1,9]\n",
        "for i in range(len(lists)):\n",
        "  for j in range(0,len(list)- i - 1):\n",
        "    if lists[j]>lists[j+1]:\n",
        "      lists[j],lists[j+1]=lists[j+1],lists[j]\n",
        "mid =len(lists)//2\n",
        "if len(lists) % 2 ==0:\n",
        "  median_value=(lists[mid-1]+lists[mid])/2\n",
        "else:\n",
        "  median_value=lists[mid]\n",
        "print(median_value)"
      ],
      "metadata": {
        "colab": {
          "base_uri": "https://localhost:8080/"
        },
        "id": "jJYaiQ45zlTh",
        "outputId": "815a7769-c346-4a9e-e047-293947cef951"
      },
      "execution_count": 7,
      "outputs": [
        {
          "output_type": "stream",
          "name": "stdout",
          "text": [
            "6.5\n"
          ]
        }
      ]
    },
    {
      "cell_type": "code",
      "source": [
        "#mode of list of numbers\n",
        "def mode_value(number4):\n",
        "  mode_repeat = {}\n",
        "  for i in number4:\n",
        "    if i in mode_repeat:\n",
        "        mode_repeat[i] += 1\n",
        "    else:\n",
        "       mode_repeat[i] = 1\n",
        "  max_freq=0\n",
        "  for v in mode_repeat.values():\n",
        "    if v >max_freq:\n",
        "      max_freq=v\n",
        "\n",
        "  if max_freq==0:\n",
        "    return None\n",
        "  else:\n",
        "    mode_values=[]\n",
        "    for num,count in mode_repeat.items():\n",
        "      if mode_repeat[num]== max_freq:\n",
        "        mode_values.append(num)\n",
        "  print(\"mode values: \",mode_values)\n",
        "numberlist=[4,5,8,6,9,10,8,15,20]\n",
        "mode_value(numberlist)"
      ],
      "metadata": {
        "colab": {
          "base_uri": "https://localhost:8080/"
        },
        "id": "JyHp4kSm6FmY",
        "outputId": "d5f16501-c033-48d0-b9e2-e798b3e396d0"
      },
      "execution_count": null,
      "outputs": [
        {
          "output_type": "stream",
          "name": "stdout",
          "text": [
            "mode values:  [8]\n"
          ]
        }
      ]
    },
    {
      "cell_type": "code",
      "source": [
        "# percentile value\n",
        "list=[55,68,44,53,87]\n",
        "def percentile_list(data,percent):\n",
        "  datasort=sorted(data)\n",
        "  position=(percent/100)*len(datasort)-1\n",
        "  lower=int(position)\n",
        "  upper=lower+1\n",
        "  if upper>=len(data):\n",
        "    return data[lower]\n",
        "  return data[lower] + (data[upper] - data[lower]) * (position - lower)\n",
        "print(percentile_list(list,90))"
      ],
      "metadata": {
        "colab": {
          "base_uri": "https://localhost:8080/"
        },
        "id": "olAkQVw8-Ec-",
        "outputId": "3222d34c-ee5d-4ae7-deae-ac02985e76f4"
      },
      "execution_count": null,
      "outputs": [
        {
          "output_type": "stream",
          "name": "stdout",
          "text": [
            "70.0\n"
          ]
        }
      ]
    },
    {
      "cell_type": "code",
      "source": [
        "#lower bound\n",
        "list=[47,70,15,35,23]\n",
        "def lower_bound(list):\n",
        "    if not list:\n",
        "      return None\n",
        "    return min(list)\n",
        "print(\"lower bound:\",lower_bound(list))"
      ],
      "metadata": {
        "colab": {
          "base_uri": "https://localhost:8080/"
        },
        "id": "TKDKD_vX_SGe",
        "outputId": "f7bab01b-9a96-494d-e09f-69c83e22eacd"
      },
      "execution_count": null,
      "outputs": [
        {
          "output_type": "stream",
          "name": "stdout",
          "text": [
            "lower bound: 15\n"
          ]
        }
      ]
    },
    {
      "cell_type": "code",
      "source": [
        "#outliers\n",
        "list=[50,90,60,70,80,40,667]\n",
        "def find_outliers(list):\n",
        "  if not list:\n",
        "    return None\n",
        "  sorted_list = sorted(list)\n",
        "  n=len(sorted_list)\n",
        "  Q1=sorted_list[n//4]\n",
        "  Q3=sorted_list[(3 * n) // 4]\n",
        "  IQR= Q3-Q1\n",
        "  lower_bound=Q1 - 1.5 * IQR\n",
        "  upper_bound=Q3 + 1.5 * IQR\n",
        "  outliers = [ x for x in list if x < lower_bound or x > upper_bound]\n",
        "  return outliers\n",
        "print(find_outliers(list))"
      ],
      "metadata": {
        "colab": {
          "base_uri": "https://localhost:8080/"
        },
        "id": "Ju0j0KZgAjhL",
        "outputId": "1393fe46-a44d-43d0-f71d-63f4e3198969"
      },
      "execution_count": null,
      "outputs": [
        {
          "output_type": "stream",
          "name": "stdout",
          "text": [
            "[667]\n"
          ]
        }
      ]
    },
    {
      "cell_type": "code",
      "source": [
        "#standard deviation\n",
        "list=[67,56,88,99,15]\n",
        "def standard_deviation (list):\n",
        "  mean_std=sum(list) / len(list)\n",
        "\n",
        "  squared=[]\n",
        "  for num in list:\n",
        "    squared.append((num - mean_std) ** 2)\n",
        "  variance=sum(squared)/len(list)\n",
        "  std_deviation = variance ** 0.5\n",
        "  return std_deviation\n",
        "print(standard_deviation(list))"
      ],
      "metadata": {
        "colab": {
          "base_uri": "https://localhost:8080/"
        },
        "id": "Sy-9nYzCDlhu",
        "outputId": "1690ebbd-407e-4a8a-da12-967fd93ba13b"
      },
      "execution_count": null,
      "outputs": [
        {
          "output_type": "stream",
          "name": "stdout",
          "text": [
            "29.223278392404914\n"
          ]
        }
      ]
    },
    {
      "cell_type": "code",
      "source": [
        "#compute  and return z Score values\n",
        "list=[24,17,29,13,35]\n",
        "def zscore(list):\n",
        "  mean=sum(list) / len(list)\n",
        "  deviation = (sum((x-mean) ** 2 for x in list) /len(list))**0.5\n",
        "  return [(x - mean)/deviation for x in list]\n",
        "print(zscore(list))"
      ],
      "metadata": {
        "colab": {
          "base_uri": "https://localhost:8080/"
        },
        "id": "1I4UiX7_GxMS",
        "outputId": "db2b3103-1875-466d-c988-89e3052c7842"
      },
      "execution_count": null,
      "outputs": [
        {
          "output_type": "stream",
          "name": "stdout",
          "text": [
            "[0.05037927218598766, -0.8312579910687995, 0.6801201745108356, -1.3350507129286777, 1.4358092573006531]\n"
          ]
        }
      ]
    },
    {
      "cell_type": "code",
      "source": [
        "#Pearson correlation coefficient\n",
        "x_vals = [10, 20, 30, 40, 50]\n",
        "y_vals = [15, 25, 35, 45, 55]\n",
        "def pearson_correlation(x, y):\n",
        "\n",
        "    if len(x) != len(y) or len(x) == 0:\n",
        "        return None\n",
        "\n",
        "    n = len(x)\n",
        "    mean_x = sum(x) / n\n",
        "    mean_y = sum(y) / n\n",
        "    numerator = sum((x[i] - mean_x) * (y[i] - mean_y) for i in range(n))\n",
        "    denominator_x = sum((x[i] - mean_x) ** 2 for i in range(n)) ** 0.5\n",
        "    denominator_y = sum((y[i] - mean_y) ** 2 for i in range(n)) ** 0.5\n",
        "    if denominator_x == 0 or denominator_y == 0:\n",
        "        return None\n",
        "\n",
        "    return numerator / (denominator_x * denominator_y)\n",
        "\n",
        "result = pearson_correlation(x_vals, y_vals)\n",
        "print(\"Pearson correlation coefficient:\", result)"
      ],
      "metadata": {
        "colab": {
          "base_uri": "https://localhost:8080/"
        },
        "id": "xypGoW0BMSs4",
        "outputId": "9669771c-e87b-47dc-8d0f-d86acb5ae349"
      },
      "execution_count": 3,
      "outputs": [
        {
          "output_type": "stream",
          "name": "stdout",
          "text": [
            "Pearson correlation coefficient: 1.0\n"
          ]
        }
      ]
    }
  ]
}