{
  "nbformat": 4,
  "nbformat_minor": 0,
  "metadata": {
    "colab": {
      "provenance": [],
      "authorship_tag": "ABX9TyOOynNl0YbFH3BpPnCOQNx3",
      "include_colab_link": true
    },
    "kernelspec": {
      "name": "python3",
      "display_name": "Python 3"
    },
    "language_info": {
      "name": "python"
    }
  },
  "cells": [
    {
      "cell_type": "markdown",
      "metadata": {
        "id": "view-in-github",
        "colab_type": "text"
      },
      "source": [
        "<a href=\"https://colab.research.google.com/github/AnnaPoly108/ICT_activities/blob/main/conditional_statement.ipynb\" target=\"_parent\"><img src=\"https://colab.research.google.com/assets/colab-badge.svg\" alt=\"Open In Colab\"/></a>"
      ]
    },
    {
      "cell_type": "markdown",
      "source": [
        "#conditional statement"
      ],
      "metadata": {
        "id": "JJbh0kkJUOwi"
      }
    },
    {
      "cell_type": "markdown",
      "source": [
        "**if,else**"
      ],
      "metadata": {
        "id": "QjnssAL3UenM"
      }
    },
    {
      "cell_type": "code",
      "execution_count": null,
      "metadata": {
        "colab": {
          "base_uri": "https://localhost:8080/"
        },
        "id": "xuwmvz8XRs-I",
        "outputId": "a3c72a3e-9d42-408b-c62c-1d55b16c072c"
      },
      "outputs": [
        {
          "output_type": "stream",
          "name": "stdout",
          "text": [
            "year of birth 30\n",
            "eligible for vote\n"
          ]
        }
      ],
      "source": [
        "x=int(input('year of birth '))\n",
        "if x>=18:\n",
        "  print(\"eligible for vote\")\n",
        "else:\n",
        "  print(\"not elgible for vote\")\n"
      ]
    },
    {
      "cell_type": "markdown",
      "source": [
        "**if-elif**"
      ],
      "metadata": {
        "id": "POHgEaGTUpDx"
      }
    },
    {
      "cell_type": "code",
      "source": [
        "x=int(input(\"enter the number\"))\n",
        "if x>0:\n",
        "  print(f\"{x}is greater than 0\")\n",
        "elif x==0:\n",
        "  print(f\"{x} is equal to 0\")\n",
        "else :\n",
        "  printf(f\"{x} is less than 0\")"
      ],
      "metadata": {
        "colab": {
          "base_uri": "https://localhost:8080/"
        },
        "id": "s-5oo9hwUu8F",
        "outputId": "dadad833-7d84-4924-daf4-6497b131e821"
      },
      "execution_count": null,
      "outputs": [
        {
          "output_type": "stream",
          "name": "stdout",
          "text": [
            "enter the number5\n",
            "5is greater than 0\n"
          ]
        }
      ]
    },
    {
      "cell_type": "code",
      "source": [
        "x=int(input(\"enter the number\"))\n",
        "if x<0:\n",
        "  print(\"not valid\")\n",
        "elif 0<=x<=12:\n",
        "  print(\"child\")\n",
        "elif 13<=x<=19:\n",
        "  print(\"teenager\")\n",
        "elif 20<=x<=59:\n",
        "  print(\"adult\")\n",
        "else:\n",
        "  print(\"senior citizen\")"
      ],
      "metadata": {
        "colab": {
          "base_uri": "https://localhost:8080/"
        },
        "id": "OvcI3LXfWMUu",
        "outputId": "07b5cb8f-e30d-43bf-9831-c1f13f2d091c"
      },
      "execution_count": null,
      "outputs": [
        {
          "output_type": "stream",
          "name": "stdout",
          "text": [
            "enter the number-1\n",
            "not valid\n"
          ]
        }
      ]
    },
    {
      "cell_type": "code",
      "source": [
        "name=input(\"enter the name: \")\n",
        "if len(name)<10:\n",
        "  print(\"name is short\")\n",
        "else:\n",
        "  print(\"name is lengthy\")\n"
      ],
      "metadata": {
        "colab": {
          "base_uri": "https://localhost:8080/"
        },
        "id": "BfXH7m9dZhnn",
        "outputId": "61f639e2-a9cc-48ab-da88-132faeb01f03"
      },
      "execution_count": null,
      "outputs": [
        {
          "output_type": "stream",
          "name": "stdout",
          "text": [
            "enter the name: annaanupolybiny\n",
            "name is lengthy\n"
          ]
        }
      ]
    },
    {
      "cell_type": "code",
      "source": [
        "time=input(\"enterin time HH:MM format: \").split(\":\") #convert railway time into normal\n",
        "a=int(time[0])\n",
        "b=int(time[1])\n",
        "if a>=12:\n",
        "  c=a-12\n",
        "  print(f\"{c}:{b} PM\")\n",
        "else:\n",
        "  print(f\"{a}:{b} AM\")"
      ],
      "metadata": {
        "colab": {
          "base_uri": "https://localhost:8080/"
        },
        "id": "U5C4VihEbGqe",
        "outputId": "7e137f25-146f-4a49-86be-5731ce587600"
      },
      "execution_count": null,
      "outputs": [
        {
          "output_type": "stream",
          "name": "stdout",
          "text": [
            "enterin time HH:MM format: 22:10\n",
            "10:10 PM\n"
          ]
        }
      ]
    },
    {
      "cell_type": "code",
      "source": [
        "a=input(\"enter your string \") #palindrome\n",
        "x=a[::-1]\n",
        "if x==a:\n",
        "  print(\"palindrome\")\n",
        "else:\n",
        "  print(\"not palindrome\")"
      ],
      "metadata": {
        "colab": {
          "base_uri": "https://localhost:8080/"
        },
        "id": "tMNaRyKliCcz",
        "outputId": "b3f016bb-feea-4e5a-ea33-2f5b3f6da4c8"
      },
      "execution_count": null,
      "outputs": [
        {
          "output_type": "stream",
          "name": "stdout",
          "text": [
            "enter your string anna\n",
            "palindrome\n"
          ]
        }
      ]
    },
    {
      "cell_type": "code",
      "source": [
        "x=['Red','Green','Blue']\n",
        "a=input(\"enter the color: \")\n",
        "if a in x:\n",
        "  print(\"primary color\")\n",
        "else:\n",
        "  print(\"not primary\")"
      ],
      "metadata": {
        "colab": {
          "base_uri": "https://localhost:8080/"
        },
        "id": "suuT1c1ef-VF",
        "outputId": "c63dfb75-a143-4818-eb81-dd4a09813d32"
      },
      "execution_count": null,
      "outputs": [
        {
          "output_type": "stream",
          "name": "stdout",
          "text": [
            "enter the color: Red\n",
            "primary color\n"
          ]
        }
      ]
    },
    {
      "cell_type": "code",
      "source": [
        "data=input(\"enter data in format dd/mm/yyyy \").split(\"/\") #expired date of products\n",
        "a=int(data[0])\n",
        "b=8-int(data[1])\n",
        "c=2025-int(data[2])\n",
        "if c>=1:\n",
        "  print(\"expired\")\n",
        "elif b>6:\n",
        "  print(\"expired\")\n",
        "elif b==6 and a<5:\n",
        "  print(\"expired\")\n",
        "else:\n",
        "  print(\"not expired\")\n",
        "\n",
        "\n",
        "\n",
        "\n"
      ],
      "metadata": {
        "colab": {
          "base_uri": "https://localhost:8080/"
        },
        "id": "QAFosXvqlSvz",
        "outputId": "8d70ab67-e7ac-40c6-897a-e69342380a54"
      },
      "execution_count": null,
      "outputs": [
        {
          "output_type": "stream",
          "name": "stdout",
          "text": [
            "enter data in format dd/mm/yyyy 03/04/2025\n",
            "not expired\n"
          ]
        }
      ]
    },
    {
      "cell_type": "code",
      "source": [
        "a=int(input(\"enter the  first number\")) # to find greatest no from 3 no.s\n",
        "b=int(input(\"enter the  second number\"))\n",
        "c=int(input(\"enter the  third tnumber\"))\n",
        "if a>b and a>c:\n",
        "  print(\"a is greater\")\n",
        "elif b>a and b>c:\n",
        "  print(\"b is greater\")\n",
        "else:\n",
        "  print(\"c is greater\")\n"
      ],
      "metadata": {
        "colab": {
          "base_uri": "https://localhost:8080/"
        },
        "id": "qkS_2XmQqPgQ",
        "outputId": "587753f9-dbaf-4470-a6a6-0a3341fcbd65"
      },
      "execution_count": null,
      "outputs": [
        {
          "output_type": "stream",
          "name": "stdout",
          "text": [
            "enter the  first number22\n",
            "enter the  second number34\n",
            "enter the  third tnumber12\n",
            "b is greater\n"
          ]
        }
      ]
    },
    {
      "cell_type": "code",
      "source": [
        "a=input(\"enter the day: \")           #given day is holiday or not\n",
        "if a==\"saturday\" or a==\"sunday\":\n",
        "  print(\"holiday\")\n",
        "else:\n",
        "  print(\"not holiday\")\n"
      ],
      "metadata": {
        "colab": {
          "base_uri": "https://localhost:8080/"
        },
        "id": "YyawqSU2uCG4",
        "outputId": "e228f18f-1959-41c7-9eb1-6f35f8fe17d3"
      },
      "execution_count": null,
      "outputs": [
        {
          "output_type": "stream",
          "name": "stdout",
          "text": [
            "enter the day: sunday\n",
            "holiday\n"
          ]
        }
      ]
    },
    {
      "cell_type": "code",
      "source": [
        "a=2\n",
        "b=3.14159\n",
        "print(\"a contains {}\".format(a))\n",
        "print(\"a contains {} and b contains {}\".format(a,b))\n",
        "print(f\"a contains {a} and b contains {b}\")\n",
        "print(f\"b contains {b:.3f}\")\n"
      ],
      "metadata": {
        "colab": {
          "base_uri": "https://localhost:8080/"
        },
        "id": "aCBtyFQjxvCM",
        "outputId": "135cf749-8a8a-4106-b035-2d3cd7fdaf55"
      },
      "execution_count": null,
      "outputs": [
        {
          "output_type": "stream",
          "name": "stdout",
          "text": [
            "a contains 2\n",
            "a contains 2 and b contains 3.14159\n",
            "a contains 2 and b contains 3.14159\n",
            "b contains 3.142\n"
          ]
        }
      ]
    },
    {
      "cell_type": "markdown",
      "source": [
        "**multivariable assignment**"
      ],
      "metadata": {
        "id": "sI1XHD-h2mx_"
      }
    },
    {
      "cell_type": "code",
      "source": [
        "name,age,location=\"guest\",22,\"cochin\"\n",
        "print(name)\n",
        "print(age)\n",
        "print(location)"
      ],
      "metadata": {
        "colab": {
          "base_uri": "https://localhost:8080/"
        },
        "id": "7g3cQUjn2RP7",
        "outputId": "a32cbb2f-d89c-4fdd-d71a-17c3c936abee"
      },
      "execution_count": null,
      "outputs": [
        {
          "output_type": "stream",
          "name": "stdout",
          "text": [
            "guest\n",
            "22\n",
            "cochin\n"
          ]
        }
      ]
    },
    {
      "cell_type": "code",
      "source": [
        "a=10\n",
        "b=20\n",
        "print(a,b)\n",
        "print(a,b,sep=\"_\")\n",
        "print(\"a contains\",a,\"b contains\",b)"
      ],
      "metadata": {
        "colab": {
          "base_uri": "https://localhost:8080/"
        },
        "id": "CF06ElCB4OhB",
        "outputId": "2a10a926-8f29-4b97-8580-81f9ed5a2ded"
      },
      "execution_count": null,
      "outputs": [
        {
          "output_type": "stream",
          "name": "stdout",
          "text": [
            "10 20\n",
            "10_20\n",
            "a contains 10 b contains 20\n"
          ]
        }
      ]
    },
    {
      "cell_type": "code",
      "source": [
        "print(\"hello\")\n",
        "print(\"hi\",end=\"_\")\n",
        "print(\"welcome\")"
      ],
      "metadata": {
        "colab": {
          "base_uri": "https://localhost:8080/"
        },
        "id": "7h0xLl7c4wTU",
        "outputId": "f72329b1-13fb-4d3f-802f-2126dfc8fd77"
      },
      "execution_count": null,
      "outputs": [
        {
          "output_type": "stream",
          "name": "stdout",
          "text": [
            "hello\n",
            "hi_welcome\n"
          ]
        }
      ]
    },
    {
      "cell_type": "code",
      "source": [
        "#integer to string\n",
        "a=5\n",
        "b=str(a)\n",
        "print(b, type(b))\n",
        "\n",
        "#string to integer\n",
        "a=\"5\"\n",
        "b=int(a)\n",
        "print(b,type(b))\n",
        "\n",
        "#integer to float\n",
        "a=5\n",
        "b=float(a)\n",
        "print(b,type(b))"
      ],
      "metadata": {
        "colab": {
          "base_uri": "https://localhost:8080/"
        },
        "id": "nZtYm8FL6iPe",
        "outputId": "61dc15b1-9513-47b0-a8ca-5bca7d0af0d3"
      },
      "execution_count": null,
      "outputs": [
        {
          "output_type": "stream",
          "name": "stdout",
          "text": [
            "5 <class 'str'>\n",
            "5 <class 'int'>\n",
            "5.0 <class 'float'>\n"
          ]
        }
      ]
    },
    {
      "cell_type": "code",
      "source": [
        "a=\"5\" # string to int\n",
        "print(type(int(a)))"
      ],
      "metadata": {
        "colab": {
          "base_uri": "https://localhost:8080/"
        },
        "id": "v2qIOXCf8jyF",
        "outputId": "fec68367-57b6-4c63-9eb4-346f12e30dc5"
      },
      "execution_count": null,
      "outputs": [
        {
          "output_type": "stream",
          "name": "stdout",
          "text": [
            "<class 'int'>\n"
          ]
        }
      ]
    },
    {
      "cell_type": "code",
      "source": [
        "a=5 # int to string\n",
        "print(type(str(a)))"
      ],
      "metadata": {
        "colab": {
          "base_uri": "https://localhost:8080/"
        },
        "id": "IJc0kFA_9Iir",
        "outputId": "78d3c5c1-515c-4c73-ce87-47fbe9972ca6"
      },
      "execution_count": null,
      "outputs": [
        {
          "output_type": "stream",
          "name": "stdout",
          "text": [
            "<class 'str'>\n"
          ]
        }
      ]
    },
    {
      "cell_type": "code",
      "source": [
        "a=5 # int to float\n",
        "print(float,type(a))"
      ],
      "metadata": {
        "colab": {
          "base_uri": "https://localhost:8080/"
        },
        "id": "tMQM29-L9ZB9",
        "outputId": "123f5e46-9fca-459d-9fcb-db4bbbe4241e"
      },
      "execution_count": null,
      "outputs": [
        {
          "output_type": "stream",
          "name": "stdout",
          "text": [
            "<class 'float'> <class 'int'>\n"
          ]
        }
      ]
    },
    {
      "cell_type": "code",
      "source": [
        "#string to float\n",
        "a=\"5\"\n",
        "print(type(float(a)))"
      ],
      "metadata": {
        "colab": {
          "base_uri": "https://localhost:8080/"
        },
        "id": "rRpAmncT9rEj",
        "outputId": "7c01979a-65c2-44ed-da9f-063342cd6338"
      },
      "execution_count": null,
      "outputs": [
        {
          "output_type": "stream",
          "name": "stdout",
          "text": [
            "<class 'float'>\n"
          ]
        }
      ]
    },
    {
      "cell_type": "code",
      "source": [
        "#list to tuple\n",
        "mark=[\"student1\",98,\"student2\",56]\n",
        "print(tuple(mark))"
      ],
      "metadata": {
        "colab": {
          "base_uri": "https://localhost:8080/"
        },
        "id": "mj0tU9Z--gqW",
        "outputId": "d902ab3e-4311-422b-af4d-a294510760ad"
      },
      "execution_count": null,
      "outputs": [
        {
          "output_type": "stream",
          "name": "stdout",
          "text": [
            "('student1', 98, 'student2', 56)\n"
          ]
        }
      ]
    },
    {
      "cell_type": "code",
      "source": [
        "#tuple to list\n",
        "mark=(\"student1\",98,\"student2\",76)\n",
        "print(list(mark))"
      ],
      "metadata": {
        "colab": {
          "base_uri": "https://localhost:8080/"
        },
        "id": "vbOe1xwp_FKD",
        "outputId": "747f356b-13dd-43ab-c6e7-351c963ab1a9"
      },
      "execution_count": null,
      "outputs": [
        {
          "output_type": "stream",
          "name": "stdout",
          "text": [
            "['student1', 98, 'student2', 76]\n"
          ]
        }
      ]
    },
    {
      "cell_type": "code",
      "source": [
        "#string join\n",
        "domain=[\"Data\",\"science\"]\n",
        "\"_\".join(domain)"
      ],
      "metadata": {
        "colab": {
          "base_uri": "https://localhost:8080/",
          "height": 36
        },
        "id": "RjZq6UrW_m2F",
        "outputId": "ab4b3a9c-f8e7-42a4-9183-f999a2b87783"
      },
      "execution_count": null,
      "outputs": [
        {
          "output_type": "execute_result",
          "data": {
            "text/plain": [
              "'Data_science'"
            ],
            "application/vnd.google.colaboratory.intrinsic+json": {
              "type": "string"
            }
          },
          "metadata": {},
          "execution_count": 63
        }
      ]
    },
    {
      "cell_type": "markdown",
      "source": [
        "#list operations"
      ],
      "metadata": {
        "id": "ft5ifJrTBfv0"
      }
    },
    {
      "cell_type": "code",
      "source": [
        "x=[1,2,3]\n",
        "x.append(4)\n",
        "print(x)\n",
        "x.extend([5,6])\n",
        "print(x)\n",
        "x.remove(2)\n",
        "print(x)\n",
        "x.insert(0,0)\n",
        "print(x)\n",
        "\n",
        "x.reverse()\n",
        "print(x)\n",
        "x.sort()\n",
        "print(x)\n",
        "e=x.pop(0)\n",
        "print(e,x)\n",
        "x.clear()\n",
        "print(x)"
      ],
      "metadata": {
        "colab": {
          "base_uri": "https://localhost:8080/"
        },
        "id": "Kp-ngHcCAuzy",
        "outputId": "b2dafcc5-c7cc-4142-bcb1-b2ab04346daf"
      },
      "execution_count": null,
      "outputs": [
        {
          "output_type": "stream",
          "name": "stdout",
          "text": [
            "[1, 2, 3, 4]\n",
            "[1, 2, 3, 4, 5, 6]\n",
            "[1, 3, 4, 5, 6]\n",
            "[0, 1, 3, 4, 5, 6]\n",
            "[6, 5, 4, 3, 1, 0]\n",
            "[0, 1, 3, 4, 5, 6]\n",
            "0 [1, 3, 4, 5, 6]\n",
            "[]\n"
          ]
        }
      ]
    },
    {
      "cell_type": "code",
      "source": [
        "d=input(\"enter date: \")\n",
        "day,month,year=d.split(\"/\")\n",
        "a=\"_\".join([month,day,year])\n",
        "b=\"_\".join([month,day,year])\n",
        "c=\"/\".join([year,day,month])\n",
        "print(a)\n",
        "print(b)\n",
        "print(c)\n",
        "\n",
        "\n"
      ],
      "metadata": {
        "colab": {
          "base_uri": "https://localhost:8080/"
        },
        "id": "GCNM-_ojDi7a",
        "outputId": "ae7ac1f4-1cea-49c4-f07d-688744e7b523"
      },
      "execution_count": null,
      "outputs": [
        {
          "output_type": "stream",
          "name": "stdout",
          "text": [
            "enter date: 13/10/2025\n",
            "10_13_2025\n",
            "10_13_2025\n",
            "2025/13/10\n"
          ]
        }
      ]
    }
  ]
}